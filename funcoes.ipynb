{
 "cells": [
  {
   "cell_type": "markdown",
   "id": "11ef4575-ecd1-4c54-87fe-8b698382a99e",
   "metadata": {},
   "source": [
    "## Funções em Python"
   ]
  },
  {
   "cell_type": "markdown",
   "id": "ce4a4b35-a0c1-4c76-b89b-9189f8d2a66b",
   "metadata": {},
   "source": [
    "#### função simples sem parâmetro"
   ]
  },
  {
   "cell_type": "code",
   "execution_count": 4,
   "id": "469e5f94-f15a-41b1-a718-fbba4335d5be",
   "metadata": {},
   "outputs": [
    {
     "name": "stdout",
     "output_type": "stream",
     "text": [
      "esta é uma função\n"
     ]
    }
   ],
   "source": [
    "def imprime():\n",
    "    print(\"esta é uma função\")\n",
    "imprime()\n"
   ]
  },
  {
   "cell_type": "markdown",
   "id": "a0194cb6-07d6-4a14-ae5a-47ee55b913bc",
   "metadata": {},
   "source": [
    "#### recebendo um parametro"
   ]
  },
  {
   "cell_type": "code",
   "execution_count": 6,
   "id": "86d52ece-5a83-41fe-8fba-be6810c72d34",
   "metadata": {},
   "outputs": [
    {
     "name": "stdout",
     "output_type": "stream",
     "text": [
      "esta é uma função que aceita argumento/parametro\n"
     ]
    }
   ],
   "source": [
    "def imprime(n):\n",
    "    print(n)\n",
    "imprime('esta é uma função que aceita argumento/parametro')\n"
   ]
  },
  {
   "cell_type": "markdown",
   "id": "c21b96b5-56d6-4f46-b3d2-09b00712cc77",
   "metadata": {},
   "source": [
    "#### com retorno\n"
   ]
  },
  {
   "cell_type": "code",
   "execution_count": 7,
   "id": "ded8b2ea-3148-4545-80df-0f98a95765c8",
   "metadata": {},
   "outputs": [
    {
     "name": "stdout",
     "output_type": "stream",
     "text": [
      "9\n"
     ]
    }
   ],
   "source": [
    "def potencia(n):\n",
    "    return n * n\n",
    "x = potencia(3)\n",
    "print(x)"
   ]
  },
  {
   "cell_type": "markdown",
   "id": "971a967f-1dba-4461-ae65-9196a102d33d",
   "metadata": {},
   "source": [
    "#### função com valor default\n"
   ]
  },
  {
   "cell_type": "code",
   "execution_count": 17,
   "id": "00c29fe9-5f69-474c-8af5-a869e87363de",
   "metadata": {},
   "outputs": [
    {
     "name": "stdout",
     "output_type": "stream",
     "text": [
      "1\n",
      "2\n",
      "3\n",
      "4\n",
      "5\n",
      "1\n",
      "2\n",
      "3\n",
      "4\n",
      "5\n",
      "6\n",
      "7\n",
      "8\n",
      "9\n",
      "10\n",
      "11\n",
      "12\n",
      "13\n",
      "14\n",
      "15\n"
     ]
    }
   ],
   "source": [
    "\n",
    "def intervalo(inic = 1, fim = 15):\n",
    "    for inic in range(1, fim+1):\n",
    "        print(inic)\n",
    "\n",
    "x = intervalo(1,5)\n",
    "y = intervalo()"
   ]
  },
  {
   "cell_type": "markdown",
   "id": "ae1ad655-5c2d-46a2-b6eb-f574b5976e7a",
   "metadata": {},
   "source": [
    "#### Função padrão"
   ]
  },
  {
   "cell_type": "code",
   "execution_count": 27,
   "id": "37c88781-fb69-49ec-badd-a3fa9be7038e",
   "metadata": {},
   "outputs": [
    {
     "name": "stdout",
     "output_type": "stream",
     "text": [
      "200\n",
      "maior valor:  45\n",
      "menor valor:  1\n",
      "a soma da lista é:  108\n",
      "arrendondamento:  3.0\n"
     ]
    }
   ],
   "source": [
    "#funções internas do python\n",
    "\n",
    "print(abs(-200))\n",
    "\n",
    "lst = [1,2,30,30,45]\n",
    "\n",
    "print(\"maior valor: \", max(lst))\n",
    "print(\"menor valor: \", min(lst))\n",
    "print(\"a soma da lista é: \", sum(lst))\n",
    "print(\"arrendondamento: \", round(3.12319239,0))"
   ]
  },
  {
   "cell_type": "code",
   "execution_count": 28,
   "id": "585cc591-61d5-47f0-9b4f-ea841bb62eae",
   "metadata": {},
   "outputs": [
    {
     "name": "stdout",
     "output_type": "stream",
     "text": [
      "Média da lista:  21.6\n",
      "Mediana da lista:  30\n",
      "Moda da lista:  30\n",
      "Desvio padrão:  19.346834366376324\n",
      "Variância:  374.3\n"
     ]
    }
   ],
   "source": [
    "#statistics\n",
    "from statistics import *\n",
    "print('Média da lista: ', mean(lst))\n",
    "print('Mediana da lista: ', median(lst))\n",
    "print('Moda da lista: ', mode(lst))\n",
    "print('Desvio padrão: ', stdev(lst))\n",
    "print('Variância: ', variance(lst))\n",
    "      "
   ]
  },
  {
   "cell_type": "code",
   "execution_count": 29,
   "id": "df4a35ed-b1ba-48c3-a4c8-b0a7bca39f3d",
   "metadata": {},
   "outputs": [
    {
     "name": "stdout",
     "output_type": "stream",
     "text": [
      "<class 'numpy.ndarray'>\n",
      "[[0.01354433 0.51797968 0.78492187 0.72358524 0.00324691 0.37522405\n",
      "  0.3157767  0.15804715]\n",
      " [0.72615133 0.90265275 0.73839874 0.31537216 0.06453864 0.56380993\n",
      "  0.28172715 0.46007407]\n",
      " [0.51947511 0.49100927 0.73812703 0.78801692 0.23342026 0.16895749\n",
      "  0.64304664 0.98494772]\n",
      " [0.34344548 0.74749327 0.13820527 0.94936384 0.23621232 0.07734461\n",
      "  0.82927761 0.21665015]\n",
      " [0.5297267  0.94065902 0.34598257 0.95248243 0.10055608 0.11159548\n",
      "  0.80259968 0.64061516]\n",
      " [0.92658914 0.21018323 0.13214384 0.70059138 0.75961798 0.98158667\n",
      "  0.13273294 0.91017098]\n",
      " [0.16454439 0.9514898  0.82016822 0.42523854 0.17185998 0.82796322\n",
      "  0.73271014 0.9701436 ]\n",
      " [0.46312266 0.56495597 0.13895529 0.71086918 0.94469912 0.95613786\n",
      "  0.73664475 0.94672719]]\n"
     ]
    }
   ],
   "source": [
    "from numpy import *\n",
    "a = random.random((8,8))\n",
    "print(type(a))\n",
    "print(a)"
   ]
  }
 ],
 "metadata": {
  "kernelspec": {
   "display_name": "Python 3 (ipykernel)",
   "language": "python",
   "name": "python3"
  },
  "language_info": {
   "codemirror_mode": {
    "name": "ipython",
    "version": 3
   },
   "file_extension": ".py",
   "mimetype": "text/x-python",
   "name": "python",
   "nbconvert_exporter": "python",
   "pygments_lexer": "ipython3",
   "version": "3.11.7"
  }
 },
 "nbformat": 4,
 "nbformat_minor": 5
}
