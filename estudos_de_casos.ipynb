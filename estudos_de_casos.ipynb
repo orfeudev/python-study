{
 "cells": [
  {
   "cell_type": "markdown",
   "metadata": {},
   "source": [
    "---\n",
    "\n",
    "## Exercícios\n",
    "\n",
    "### Exercício 1: Tipos de Dados em Python\n",
    "\n",
    "Crie uma função que exiba o tipo de dado de uma variável passada como argumento. Teste a função com diferentes tipos de variáveis (int, float, string, boolean).\n"
   ]
  },
  {
   "cell_type": "code",
   "execution_count": 73,
   "metadata": {
    "scrolled": true
   },
   "outputs": [
    {
     "name": "stdout",
     "output_type": "stream",
     "text": [
      "<class 'float'>\n",
      "<class 'int'>\n",
      "<class 'tuple'>\n",
      "<class 'str'>\n",
      "<class 'list'>\n",
      "<class 'dict'>\n",
      "<class 'bool'>\n"
     ]
    }
   ],
   "source": [
    "a = 0.3   \n",
    "b = 3\n",
    "c = (1,2,3)\n",
    "d = 'João' \n",
    "e = [1,2,3,4]\n",
    "f = {'João':7.3,'Joycinha':8.2}\n",
    "g = True\n",
    "\n",
    "def tipoDeDado(n):\n",
    "    print(type(n))\n",
    "\n",
    "tipoDeDado(a)\n",
    "tipoDeDado(b)\n",
    "tipoDeDado(c)\n",
    "tipoDeDado(d)\n",
    "tipoDeDado(e)\n",
    "tipoDeDado(f)\n",
    "tipoDeDado(g)\n",
    "\n"
   ]
  },
  {
   "cell_type": "markdown",
   "metadata": {},
   "source": [
    "### Exercício 2: Par ou Ímpar\n",
    "\n",
    "Crie uma função que receba um número inteiro e retorne uma mensagem indicando se o número é par ou ímpar.\n"
   ]
  },
  {
   "cell_type": "code",
   "execution_count": 5,
   "metadata": {},
   "outputs": [
    {
     "name": "stdin",
     "output_type": "stream",
     "text": [
      "Digite um número:  2712312093\n"
     ]
    },
    {
     "name": "stdout",
     "output_type": "stream",
     "text": [
      "este número é ímpar!\n"
     ]
    }
   ],
   "source": [
    "num = (input('Digite um número: '))\n",
    "if not num.isdigit():\n",
    "        print('O que você digitou não é um número!')\n",
    "else:   \n",
    "        num = int(num)\n",
    "        def evenOrOdd(num):\n",
    "           \n",
    "            if num % 2 == 0:\n",
    "                print('Este número é par!')\n",
    "            else: print('este número é ímpar!')\n",
    "        evenOrOdd(num)"
   ]
  },
  {
   "cell_type": "markdown",
   "metadata": {},
   "source": [
    "### Exercício 3: Soma de Dois Números\n",
    "\n",
    "Escreva uma função que receba dois números inteiros como entrada e retorne a soma deles.\n"
   ]
  },
  {
   "cell_type": "code",
   "execution_count": null,
   "metadata": {},
   "outputs": [],
   "source": [
    "a = int(input('Digite o primeiro número inteiro: '))\n",
    "b = int(input('Digite o segundo número inteiro: '))\n",
    "n = a+b\n",
    "def somaDosNumeros(n):\n",
    "    return 'O resultado da soma é: '+str(n)\n",
    "\n",
    "print(somaDosNumeros(n))\n",
    "    \n",
    "                    "
   ]
  },
  {
   "cell_type": "markdown",
   "metadata": {},
   "source": [
    "### Exercício 4: Condicional Simples\n",
    "\n",
    "Escreva uma função que receba um número inteiro e retorne uma mensagem indicando se ele é maior, menor ou igual a zero.\n"
   ]
  },
  {
   "cell_type": "code",
   "execution_count": 72,
   "metadata": {},
   "outputs": [
    {
     "name": "stdin",
     "output_type": "stream",
     "text": [
      "Digite um número a ser verificado:  -30\n"
     ]
    },
    {
     "name": "stdout",
     "output_type": "stream",
     "text": [
      "É menor que zero!\n"
     ]
    }
   ],
   "source": [
    "a = int(input('Digite um número a ser verificado: '))\n",
    "\n",
    "def comparando(a):\n",
    "    if a > 0:\n",
    "        print('É maior que zero!')\n",
    "    elif a == 0:\n",
    "        print('É igual a zero!')\n",
    "    else: print('É menor que zero!')\n",
    "\n",
    "comparando(a)\n",
    "        "
   ]
  },
  {
   "cell_type": "markdown",
   "metadata": {},
   "source": [
    "### Exercício 5: Tabuada de um Número\n",
    "\n",
    "Crie uma função que receba um número inteiro como entrada e retorne a tabuada desse número, de 1 a 10, no formato de lista.\n"
   ]
  },
  {
   "cell_type": "code",
   "execution_count": 22,
   "metadata": {},
   "outputs": [
    {
     "name": "stdin",
     "output_type": "stream",
     "text": [
      "Digite o número que você deseja calcular a tabuada:  1\n"
     ]
    },
    {
     "name": "stdout",
     "output_type": "stream",
     "text": [
      "A tabuada de 1 é: [1, 2, 3, 4, 5, 6, 7, 8, 9, 10]\n"
     ]
    }
   ],
   "source": [
    "n = int(input('Digite o número que você deseja a tabuada: '))\n",
    "if 0 < n < 11:\n",
    "    def tabuada(n):\n",
    "        return [n * i for i in range(1, 11)]\n",
    "    resultado = tabuada(n)\n",
    "    print(f\"A tabuada de {n} é: {resultado}\")\n",
    "else: print('Você precisa digitar um número de 1 a 10.')"
   ]
  },
  {
   "cell_type": "markdown",
   "metadata": {},
   "source": [
    "### Exercício 6: Média de uma Lista de Números\n",
    "\n",
    "Crie uma função que receba uma lista de números como entrada e retorne a média dos números. Certifique-se de tratar listas vazias de forma adequada.\n"
   ]
  },
  {
   "cell_type": "code",
   "execution_count": 1,
   "metadata": {},
   "outputs": [
    {
     "name": "stdin",
     "output_type": "stream",
     "text": [
      "Qual tamanho a lista terá?  10\n",
      "Digite o 1º número:  20\n",
      "Digite o 2º número:  1\n",
      "Digite o 3º número:  2\n",
      "Digite o 4º número:  3\n",
      "Digite o 5º número:  4\n",
      "Digite o 6º número:  5\n",
      "Digite o 7º número:  10\n",
      "Digite o 8º número:  9\n",
      "Digite o 9º número:  10\n",
      "Digite o 10º número:  9\n"
     ]
    },
    {
     "name": "stdout",
     "output_type": "stream",
     "text": [
      "A média dos números da lista [20.0, 1.0, 2.0, 3.0, 4.0, 5.0, 10.0, 9.0, 10.0, 9.0] é:  7.3\n"
     ]
    }
   ],
   "source": [
    "import statistics\n",
    "def pedir_numero(msg):\n",
    "    while True:\n",
    "        try:\n",
    "            return float(input(msg))\n",
    "        except ValueError:\n",
    "            print(\"Não é um número, digite novamente.\")\n",
    "\n",
    "tamanho = int(pedir_numero(\"Qual tamanho a lista terá? \"))\n",
    "lista = []\n",
    "for i in range(tamanho):\n",
    "    lista.append(pedir_numero(f\"Digite o {i+1}º número: \"))\n",
    "\n",
    "if len(lista) == 0:\n",
    "    print('esta lista esta vazia.')\n",
    "\n",
    "else:\n",
    "    media = statistics.mean(lista) \n",
    "    print(f\"A média dos números da lista {lista} é:  {media}\")\n"
   ]
  },
  {
   "cell_type": "markdown",
   "metadata": {},
   "source": [
    "### Exercício 7: Operações Aritméticas\n",
    "\n",
    "Implemente uma função que receba dois números e um operador (+, -, \\*, /) como entrada e retorne o resultado da operação entre os dois números.\n"
   ]
  },
  {
   "cell_type": "code",
   "execution_count": 8,
   "metadata": {},
   "outputs": [
    {
     "name": "stdin",
     "output_type": "stream",
     "text": [
      "Digite um número:  1\n",
      "Digite um operador válido:  /\n",
      "digite o segundo número:  0\n"
     ]
    },
    {
     "name": "stdout",
     "output_type": "stream",
     "text": [
      "Você não pode dividir por zero.\n",
      "None\n"
     ]
    }
   ],
   "source": [
    "n1 = float(input('Digite um número: '))\n",
    "op = input('Digite um operador válido: ')\n",
    "n2 = float(input('digite o segundo número: '))\n",
    "\n",
    "def calculadora(a, b, c):\n",
    "    if b == '+':\n",
    "        return a+c\n",
    "    elif b == '-':\n",
    "        return a-c\n",
    "    elif b == '/':\n",
    "        if c == 0:\n",
    "            print('Você não pode dividir por zero.')\n",
    "        else: \n",
    "            return (a/c)\n",
    "    elif b == '*':\n",
    "        return a*c\n",
    "    else:\n",
    "        print('Não é um operador válido.')\n",
    "\n",
    "resultado = calculadora(n1,op,n2)\n",
    "\n",
    "print(resultado)\n"
   ]
  },
  {
   "cell_type": "markdown",
   "metadata": {},
   "source": [
    "### Exercício 8: Operadores Lógicos\n",
    "\n",
    "Crie uma função que receba dois valores booleanos e retorne os resultados das operações AND, OR e NOT aplicadas a eles.\n"
   ]
  },
  {
   "cell_type": "code",
   "execution_count": 20,
   "metadata": {},
   "outputs": [
    {
     "name": "stdout",
     "output_type": "stream",
     "text": [
      "Resultados das operações lógicas:\n",
      "E (AND): False\n",
      "OU (OR): True\n",
      "NÃO Entrada1: False\n",
      "NÃO Entrada2: True\n"
     ]
    }
   ],
   "source": [
    "def booleanos(a,b):\n",
    "    resultado_e = a and b\n",
    "    resultado_ou = a or b\n",
    "    resultado_nao_a = not a\n",
    "    resultado_nao_b = not b\n",
    "\n",
    "    return {\n",
    "        \"E (AND)\": resultado_e,\n",
    "        \"OU (OR)\": resultado_ou,\n",
    "        \"NÃO Entrada1\": resultado_nao_a,\n",
    "        \"NÃO Entrada2\": resultado_nao_b,\n",
    "    }\n",
    "\n",
    "a = True\n",
    "b = False\n",
    "resultados = booleanos(a, b)\n",
    "print(\"Resultados das operações lógicas:\")\n",
    "for operacao, resultado in resultados.items():\n",
    "    print(f\"{operacao}: {resultado}\")\n",
    "\n"
   ]
  },
  {
   "cell_type": "markdown",
   "metadata": {},
   "source": [
    "### Exercício 9: Loop `for` com Range\n",
    "\n",
    "Escreva uma função que exiba todos os números ímpares entre 1 e 20 usando um loop `for`.\n"
   ]
  },
  {
   "cell_type": "code",
   "execution_count": 19,
   "metadata": {},
   "outputs": [
    {
     "name": "stdout",
     "output_type": "stream",
     "text": [
      "[1, 2, 3, 4, 5, 6, 7, 8, 9, 10, 11, 12, 13, 14, 15, 16, 17, 18, 19, 20]\n",
      "1\n",
      "3\n",
      "5\n",
      "7\n",
      "9\n",
      "11\n",
      "13\n",
      "15\n",
      "17\n",
      "19\n"
     ]
    }
   ],
   "source": [
    "lista = list(range(1,21,1))\n",
    "print(lista)\n",
    "for i in lista:\n",
    "    if i % 2 != 0:\n",
    "        print(i)"
   ]
  },
  {
   "cell_type": "markdown",
   "metadata": {},
   "source": [
    "### Exercício 10: Loop `while` com Contador\n",
    "\n",
    "Crie uma função que receba um número como entrada e conte regressivamente até 0, exibindo os números no terminal.\n"
   ]
  },
  {
   "cell_type": "code",
   "execution_count": 3,
   "metadata": {},
   "outputs": [
    {
     "name": "stdin",
     "output_type": "stream",
     "text": [
      "Digite um número inteiro:  5\n"
     ]
    },
    {
     "name": "stdout",
     "output_type": "stream",
     "text": [
      "5\n",
      "4\n",
      "3\n",
      "2\n",
      "1\n",
      "0\n"
     ]
    }
   ],
   "source": [
    "contador = int(input('Digite um número inteiro: '))  \n",
    "\n",
    "while contador >= 0:  \n",
    "    print(contador)\n",
    "    contador -= 1  \n"
   ]
  },
  {
   "cell_type": "markdown",
   "metadata": {},
   "source": [
    "### Exercício 11: Verificação de Palíndromo\n",
    "\n",
    "Implemente uma função que receba uma string como entrada e verifique se ela é um palíndromo (a mesma leitura de trás para frente). A função deve desconsiderar espaços e diferenças entre maiúsculas e minúsculas.\n"
   ]
  },
  {
   "cell_type": "code",
   "execution_count": 16,
   "metadata": {},
   "outputs": [
    {
     "name": "stdout",
     "output_type": "stream",
     "text": [
      "nohtyp\n"
     ]
    },
    {
     "name": "stdin",
     "output_type": "stream",
     "text": [
      "Digite uma palavra ou frase:  123321\n"
     ]
    },
    {
     "name": "stdout",
     "output_type": "stream",
     "text": [
      "\"123321\" é palíndromo!\n"
     ]
    }
   ],
   "source": [
    "a = \"python\"\n",
    "print(a[::-1])  \n",
    "\n",
    "def palindromo(texto):\n",
    "    texto_limpo = ''.join(c for c in texto if c.isalnum()).lower()\n",
    "    return texto_limpo == texto_limpo[::-1]\n",
    "frase = input(\"Digite uma palavra ou frase: \")\n",
    "if palindromo(frase):\n",
    "    print(f'\"{frase}\" é palíndromo!')\n",
    "else:\n",
    "    print(f'\"{frase}\" não é palíndromo.')"
   ]
  },
  {
   "cell_type": "markdown",
   "metadata": {},
   "source": [
    "### Exercício 12: Construção de Função com Parâmetro Padrão\n",
    "\n",
    "Implemente uma função que calcule a área de um retângulo, com um parâmetro opcional para a unidade de medida (padrão: \"m²\").\n"
   ]
  },
  {
   "cell_type": "code",
   "execution_count": 23,
   "metadata": {},
   "outputs": [
    {
     "name": "stdin",
     "output_type": "stream",
     "text": [
      "Digite a altura do retângulo:  2\n",
      "Digite a largura do retângulo:  2\n"
     ]
    },
    {
     "name": "stdout",
     "output_type": "stream",
     "text": [
      "a área é: 4.0cm²\n"
     ]
    }
   ],
   "source": [
    "def calcular_area_triangulo(a, b, c= 'cm²'):\n",
    "    area = a*b\n",
    "    return (f'a área é: {area}{c}')\n",
    "altura = float(input('Digite a altura do retângulo: '))\n",
    "largura = float(input('Digite a largura do retângulo: '))\n",
    "\n",
    "calculando = calcular_area_triangulo(altura,largura)\n",
    "print(calculando)\n"
   ]
  },
  {
   "cell_type": "markdown",
   "metadata": {},
   "source": [
    "### Exercício 13: Verificação de Substring\n",
    "\n",
    "Crie uma função que receba duas strings como entrada e verifique se a segunda string é uma substring da primeira.\n"
   ]
  },
  {
   "cell_type": "code",
   "execution_count": 32,
   "metadata": {},
   "outputs": [
    {
     "name": "stdin",
     "output_type": "stream",
     "text": [
      "digite uma frase:  eu sou muito legal\n",
      "digite a parte da frase a ser verificada mentiroso\n"
     ]
    },
    {
     "name": "stdout",
     "output_type": "stream",
     "text": [
      "mentiroso nao é substring de eu sou muito legal\n"
     ]
    }
   ],
   "source": [
    "def verificar_string(str1, str2):\n",
    "    return str2 in str1\n",
    "\n",
    "a = input('digite uma frase: ')\n",
    "b = input('digite a parte da frase a ser verificada')\n",
    "\n",
    "if verificar_string(a,b):\n",
    "    print(f'{b} é uma substring de {a}')\n",
    "else:\n",
    "    print(f'{b} nao é substring de {a}')\n",
    "\n"
   ]
  },
  {
   "cell_type": "markdown",
   "metadata": {},
   "source": [
    "### Exercício 14: Contagem de Vogais\n",
    "\n",
    "Implemente uma função que receba uma string como entrada e retorne o número de vogais presentes na string.\n"
   ]
  },
  {
   "cell_type": "code",
   "execution_count": 37,
   "metadata": {},
   "outputs": [
    {
     "name": "stdin",
     "output_type": "stream",
     "text": [
      "Digite uma string:  abcde\n"
     ]
    },
    {
     "name": "stdout",
     "output_type": "stream",
     "text": [
      "A string contém 2 vogais.\n"
     ]
    }
   ],
   "source": [
    "def contador_vogais(frase):\n",
    "    vogais = \"aeiouAEIOU\" \n",
    "    return sum(1 for char in frase if char in vogais)\n",
    "\n",
    "a = input(\"Digite uma string: \")\n",
    "vogais = contador_vogais(a)\n",
    "print(f\"A string contém {vogais} vogais.\")"
   ]
  },
  {
   "cell_type": "markdown",
   "metadata": {},
   "source": [
    "### Exercício 15: Listas com Operações Básicas\n",
    "\n",
    "Crie uma função que receba uma lista de números e retorne:\n",
    "\n",
    "1. O maior número\n",
    "2. O menor número\n",
    "3. A soma de todos os número\n"
   ]
  },
  {
   "cell_type": "code",
   "execution_count": 44,
   "metadata": {},
   "outputs": [
    {
     "name": "stdout",
     "output_type": "stream",
     "text": [
      "Digite os números para a lista. Quando terminar, digite 'pronto'.\n"
     ]
    },
    {
     "name": "stdin",
     "output_type": "stream",
     "text": [
      "Digite um número ou 'pronto':  1\n",
      "Digite um número ou 'pronto':  2\n",
      "Digite um número ou 'pronto':  213123\n",
      "Digite um número ou 'pronto':  pronto\n"
     ]
    },
    {
     "name": "stdout",
     "output_type": "stream",
     "text": [
      "\n",
      "Lista de números: [1.0, 2.0, 213123.0]\n",
      "Maior número: 213123.0\n",
      "Menor número: 1.0\n",
      "Soma de todos os números: 213126.0\n"
     ]
    }
   ],
   "source": [
    "def analisar_lista(numeros):\n",
    "    if not numeros:\n",
    "        return None, None, 0\n",
    "    \n",
    "    maior = numeros[0]\n",
    "    menor = numeros[0]\n",
    "    soma = 0\n",
    "\n",
    "    for num in numeros:\n",
    "        if num > maior:\n",
    "            maior = num\n",
    "        if num < menor:\n",
    "            menor = num\n",
    "        soma += num\n",
    "\n",
    "    return maior, menor, soma\n",
    "\n",
    "numeros = []\n",
    "print(\"Digite os números para a lista. Quando terminar, digite 'pronto'.\")\n",
    "while True:\n",
    "    entrada = input(\"Digite um número ou 'pronto': \")\n",
    "    if entrada.lower() == 'pronto':\n",
    "        break\n",
    "    try:\n",
    "        numero = float(entrada)\n",
    "        numeros.append(numero)\n",
    "    except ValueError:\n",
    "        print(\"Entrada inválida! Por favor, insira um número ou 'pronto'.\")\n",
    "\n",
    "if numeros:\n",
    "    maior, menor, soma = analisar_lista(numeros)\n",
    "    print(f\"\\nLista de números: {numeros}\")\n",
    "    print(f\"Maior número: {maior}\")\n",
    "    print(f\"Menor número: {menor}\")\n",
    "    print(f\"Soma de todos os números: {soma}\")\n",
    "else:\n",
    "    print(\"Nenhum número foi inserido.\")\n"
   ]
  },
  {
   "cell_type": "markdown",
   "metadata": {},
   "source": [
    "### Exercício 16: Matrizes com Listas de Listas\n",
    "\n",
    "Implemente uma função que receba duas matrizes (listas de listas) e retorne a soma delas, considerando que ambas têm as mesmas dimensões.\n"
   ]
  },
  {
   "cell_type": "code",
   "execution_count": 45,
   "metadata": {},
   "outputs": [
    {
     "name": "stdout",
     "output_type": "stream",
     "text": [
      "Matriz resultante da soma:\n",
      "[10, 10, 10]\n",
      "[10, 10, 10]\n",
      "[10, 10, 10]\n"
     ]
    }
   ],
   "source": [
    "def somar_matrizes(matriz_a, matriz_b):\n",
    "    if not matriz_a or not matriz_b:\n",
    "        return \"Ambas as matrizes devem ter pelo menos uma linha.\"\n",
    "    \n",
    "    if len(matriz_a) != len(matriz_b) or any(len(linha_a) != len(linha_b) for linha_a, linha_b in zip(matriz_a, matriz_b)):\n",
    "        return \"As matrizes devem ter a mesma dimensão.\"\n",
    "    \n",
    "    resultado = [\n",
    "        [matriz_a[i][j] + matriz_b[i][j] for j in range(len(matriz_a[0]))]\n",
    "        for i in range(len(matriz_a))\n",
    "    ]\n",
    "    \n",
    "    return resultado\n",
    "\n",
    "matriz_a = [\n",
    "    [1, 2, 3],\n",
    "    [4, 5, 6],\n",
    "    [7, 8, 9]\n",
    "]\n",
    "\n",
    "matriz_b = [\n",
    "    [9, 8, 7],\n",
    "    [6, 5, 4],\n",
    "    [3, 2, 1]\n",
    "]\n",
    "\n",
    "resultado_soma = somar_matrizes(matriz_a, matriz_b)\n",
    "\n",
    "if isinstance(resultado_soma, list):\n",
    "    print(\"Matriz resultante da soma:\")\n",
    "    for linha in resultado_soma:\n",
    "        print(linha)\n",
    "else:\n",
    "    print(resultado_soma)\n"
   ]
  },
  {
   "cell_type": "markdown",
   "metadata": {},
   "source": [
    "### Exercício 17: Números Primos em um Intervalo\n",
    "\n",
    "Escreva uma função que receba dois números inteiros (início e fim de um intervalo) e retorne uma lista com todos os números primos dentro desse intervalo.\n"
   ]
  },
  {
   "cell_type": "code",
   "execution_count": 46,
   "metadata": {},
   "outputs": [
    {
     "name": "stdin",
     "output_type": "stream",
     "text": [
      "Digite o início do intervalo:  1\n",
      "Digite o fim do intervalo:  10\n"
     ]
    },
    {
     "name": "stdout",
     "output_type": "stream",
     "text": [
      "Números primos entre 1 e 10: [2, 3, 5, 7]\n"
     ]
    }
   ],
   "source": [
    "def primo(n):\n",
    "    if n < 2:\n",
    "        return False\n",
    "    for i in range(2, int(n ** 0.5) + 1):\n",
    "        if n % i == 0:\n",
    "            return False\n",
    "    return True\n",
    "\n",
    "def encontrar_primos(inicio_intervalo, fim_intervalo):\n",
    "    lista_primos = []\n",
    "    for numero in range(inicio_intervalo, fim_intervalo + 1):\n",
    "        if primo(numero):\n",
    "            lista_primos.append(numero)\n",
    "    return lista_primos\n",
    "\n",
    "inicio_intervalo = int(input(\"Digite o início do intervalo: \"))\n",
    "fim_intervalo = int(input(\"Digite o fim do intervalo: \"))\n",
    "\n",
    "primos = encontrar_primos(inicio_intervalo, fim_intervalo)\n",
    "\n",
    "print(f\"Números primos entre {inicio_intervalo} e {fim_intervalo}: {primos}\")\n"
   ]
  },
  {
   "cell_type": "markdown",
   "metadata": {},
   "source": [
    "### Exercício 18: Estatísticas Simples com Listas\n",
    "\n",
    "Implemente uma função que receba uma lista de números e retorne o desvio padrão e a mediana.\n"
   ]
  },
  {
   "cell_type": "code",
   "execution_count": 47,
   "metadata": {},
   "outputs": [
    {
     "name": "stdin",
     "output_type": "stream",
     "text": [
      "Qual tamanho a lista terá?  10\n",
      "Digite o 1º número:  5\n",
      "Digite o 2º número:  10\n",
      "Digite o 3º número:  7\n",
      "Digite o 4º número:  8\n",
      "Digite o 5º número:  3\n",
      "Digite o 6º número:  4\n",
      "Digite o 7º número:  2\n",
      "Digite o 8º número:  1\n",
      "Digite o 9º número:  10\n",
      "Digite o 10º número:  0\n"
     ]
    },
    {
     "name": "stdout",
     "output_type": "stream",
     "text": [
      "A mediana dos números da lista: [5.0, 10.0, 7.0, 8.0, 3.0, 4.0, 2.0, 1.0, 10.0, 0.0] é:  4.5 e o desvio padrão é 3.620926830400072\n"
     ]
    }
   ],
   "source": [
    "import statistics\n",
    "def pedir_numero(msg):\n",
    "    while True:\n",
    "        try:\n",
    "            return float(input(msg))\n",
    "        except ValueError:\n",
    "            print(\"Não é um número, digite novamente.\")\n",
    "\n",
    "tamanho = int(pedir_numero(\"Qual tamanho a lista terá? \"))\n",
    "lista = []\n",
    "for i in range(tamanho):\n",
    "    lista.append(pedir_numero(f\"Digite o {i+1}º número: \"))\n",
    "\n",
    "if len(lista) == 0:\n",
    "    print('esta lista esta vazia.')\n",
    "\n",
    "else:\n",
    "    mediana = statistics.median(lista)\n",
    "    desviop = statistics.stdev(lista) \n",
    "    print(f\"A mediana dos números da lista: {lista} é:  {mediana} e o desvio padrão é {desviop}\")\n"
   ]
  },
  {
   "cell_type": "markdown",
   "metadata": {},
   "source": [
    "### Exercício 19: Fibonacci até N\n",
    "\n",
    "Implemente uma função que receba um número inteiro `n` como entrada e retorne uma lista com os números da sequência de Fibonacci até `n`.\n"
   ]
  },
  {
   "cell_type": "code",
   "execution_count": 52,
   "metadata": {},
   "outputs": [
    {
     "name": "stdin",
     "output_type": "stream",
     "text": [
      "Digite um número:  12\n"
     ]
    },
    {
     "name": "stdout",
     "output_type": "stream",
     "text": [
      "[0, 1, 1, 2, 3, 5, 8]\n"
     ]
    }
   ],
   "source": [
    "def fibonacci_ate_n(n):\n",
    "    seq = [0, 1]\n",
    "    while seq[-1] + seq[-2] <= n:\n",
    "        seq.append(seq[-1] + seq[-2])\n",
    "    return seq[:-1] if seq[-1] > n else seq\n",
    "\n",
    "numero = int(input(\"Digite um número: \"))\n",
    "resultado = fibonacci_ate_n(numero)\n",
    "print(resultado)\n"
   ]
  },
  {
   "cell_type": "markdown",
   "metadata": {},
   "source": [
    "### Exercício 20: Inversão de String\n",
    "\n",
    "Escreva uma função que receba uma string como entrada e retorne a string invertida.\n"
   ]
  },
  {
   "cell_type": "code",
   "execution_count": 51,
   "metadata": {},
   "outputs": [
    {
     "name": "stdin",
     "output_type": "stream",
     "text": [
      "digite alguma palavra:  123\n"
     ]
    },
    {
     "name": "stdout",
     "output_type": "stream",
     "text": [
      "321\n"
     ]
    }
   ],
   "source": [
    "def inverte_string(a):\n",
    "    return a[::-1] \n",
    "invertendo = input('digite alguma palavra: ')\n",
    "print(inverte_string(invertendo))"
   ]
  },
  {
   "cell_type": "markdown",
   "metadata": {},
   "source": [
    "### Exercício 21: Ordenação de Lista\n",
    "\n",
    "Implemente uma função que receba uma lista de números como entrada e retorne a lista ordenada em ordem crescente, sem usar a função `sorted`.\n"
   ]
  },
  {
   "cell_type": "code",
   "execution_count": 53,
   "metadata": {},
   "outputs": [
    {
     "name": "stdin",
     "output_type": "stream",
     "text": [
      "Digite os números separados por espaço:  1 2 3 4 5 6 1 8\n"
     ]
    },
    {
     "name": "stdout",
     "output_type": "stream",
     "text": [
      "[1, 1, 2, 3, 4, 5, 6, 8]\n"
     ]
    }
   ],
   "source": [
    "def ordenar(lista):\n",
    "    trocou = True\n",
    "    while trocou:\n",
    "        trocou = False\n",
    "        for i in range(len(lista) - 1):\n",
    "            if lista[i] > lista[i + 1]:\n",
    "                lista[i], lista[i + 1] = lista[i + 1], lista[i]\n",
    "                trocou = True\n",
    "    return lista\n",
    "\n",
    "entrada = input(\"Digite os números separados por espaço: \")\n",
    "numeros = [int(x) for x in entrada.split()]\n",
    "print(ordenar(numeros))\n"
   ]
  },
  {
   "cell_type": "markdown",
   "metadata": {},
   "source": [
    "### Exercício 22: Contagem de Caracteres\n",
    "\n",
    "Crie uma função que receba uma string e retorne a contagem de cada caractere presente na string, ignorando espaços.\n"
   ]
  },
  {
   "cell_type": "code",
   "execution_count": 55,
   "metadata": {},
   "outputs": [
    {
     "name": "stdin",
     "output_type": "stream",
     "text": [
      "Digite a string:  kkkkkkkkkkkkkkkkkkkkkkk\n"
     ]
    },
    {
     "name": "stdout",
     "output_type": "stream",
     "text": [
      "{'k': 23}\n"
     ]
    }
   ],
   "source": [
    "def contar_caracteres(s):\n",
    "    contagem = {}\n",
    "    for char in s.replace(\" \", \"\"):\n",
    "        contagem[char] = contagem.get(char, 0) + 1\n",
    "    return contagem\n",
    "\n",
    "texto = input(\"Digite a string: \")\n",
    "print(contar_caracteres(texto))"
   ]
  },
  {
   "cell_type": "markdown",
   "metadata": {},
   "source": [
    "### Exercício 23: Contagem de Vogais\n",
    "\n",
    "Implemente uma função que receba uma string como entrada e retorne o número de vogais presentes na string.\n"
   ]
  },
  {
   "cell_type": "code",
   "execution_count": null,
   "metadata": {},
   "outputs": [],
   "source": [
    "def contador_vogais(frase):\n",
    "    vogais = \"aeiouAEIOU\" \n",
    "    return sum(1 for char in frase if char in vogais)\n",
    "\n",
    "a = input(\"Digite uma string: \")\n",
    "vogais = contador_vogais(a)\n",
    "print(f\"A string contém {vogais} vogais.\")"
   ]
  },
  {
   "cell_type": "markdown",
   "metadata": {},
   "source": [
    "### Exercício 24: Fatorial de um Número\n",
    "\n",
    "Escreva uma função que calcule o fatorial de um número inteiro positivo fornecido como entrada. Caso o número seja negativo, a função deve retornar uma mensagem de erro.\n"
   ]
  },
  {
   "cell_type": "code",
   "execution_count": 61,
   "metadata": {},
   "outputs": [
    {
     "name": "stdin",
     "output_type": "stream",
     "text": [
      "Digite um número:  10\n"
     ]
    },
    {
     "name": "stdout",
     "output_type": "stream",
     "text": [
      "3628800\n"
     ]
    }
   ],
   "source": [
    "def calc_fatorial(n):\n",
    "    if n < 0:\n",
    "        return \"Erro: número negativo\"\n",
    "    fat = 1\n",
    "    while n > 1:\n",
    "        fat *= n\n",
    "        n -= 1\n",
    "    return fat\n",
    "\n",
    "num = int(input(\"Digite um número: \"))\n",
    "print(calc_fatorial(num))\n"
   ]
  },
  {
   "cell_type": "markdown",
   "metadata": {},
   "source": [
    "### Exercício 25: Importação e Exportação de Arquivos\n",
    "\n",
    "Implemente um programa que:\n",
    "\n",
    "1. Leia os dados de um arquivo texto (.txt) contendo números inteiros (um por linha).\n",
    "2. Calcule a soma dos números e grave o resultado em um novo arquivo texto.\n"
   ]
  },
  {
   "cell_type": "code",
   "execution_count": null,
   "metadata": {},
   "outputs": [],
   "source": [
    "# Resposta do Exercício 25"
   ]
  },
  {
   "cell_type": "markdown",
   "metadata": {},
   "source": [
    "### Exercício 26: Funções com Argumentos Variáveis\n",
    "\n",
    "Crie uma função que receba uma quantidade variável de números como entrada e retorne a soma e a média desses números.\n"
   ]
  },
  {
   "cell_type": "code",
   "execution_count": null,
   "metadata": {},
   "outputs": [],
   "source": [
    "# Resposta do Exercício 26"
   ]
  },
  {
   "cell_type": "markdown",
   "metadata": {},
   "source": [
    "### Exercício 27: Combinação de DataFrames\n",
    "\n",
    "Crie um programa que construa dois DataFrames que você pode criar de maneira fictícia com dados de vendas e combine-os em um único DataFrame, imprima as 5 primeiras linhas do DataFrame.\n"
   ]
  },
  {
   "cell_type": "code",
   "execution_count": null,
   "metadata": {},
   "outputs": [],
   "source": [
    "# Resposta do Exercício 27"
   ]
  },
  {
   "cell_type": "markdown",
   "metadata": {},
   "source": [
    "### Exercício 28: Operações em DataFrames\n",
    "\n",
    "Utilizando o módulo `pandas`, escreva um código que:\n",
    "\n",
    "1. Crie um DataFrame fictício com 3 colunas: nome, matrícula e nota.\n",
    "2. Retorne o nome do aluno com a maior nota.\n"
   ]
  },
  {
   "cell_type": "code",
   "execution_count": null,
   "metadata": {},
   "outputs": [],
   "source": [
    "# Resposta do Exercício 28"
   ]
  },
  {
   "cell_type": "markdown",
   "metadata": {},
   "source": [
    "### Exercício 29: Gráficos Simples\n",
    "\n",
    "Utilizando o módulo `matplotlib`, crie um gráfico de linha que exiba a variação de temperatura ao longo de 7 dias. Os dados podem ser fictícios.\n"
   ]
  },
  {
   "cell_type": "code",
   "execution_count": null,
   "metadata": {},
   "outputs": [],
   "source": [
    "# Resposta do Exercício 29"
   ]
  },
  {
   "cell_type": "markdown",
   "metadata": {},
   "source": [
    "### Exercício 30: Gráfico de Dispersão\n",
    "\n",
    "Crie um gráfico de dispersão que mostre a relação entre duas variáveis fictícias, como altura e peso.\n"
   ]
  },
  {
   "cell_type": "code",
   "execution_count": null,
   "metadata": {},
   "outputs": [],
   "source": [
    "# Resposta do Exercício 30"
   ]
  },
  {
   "cell_type": "markdown",
   "metadata": {},
   "source": [
    "### Exercício 31: Gráficos de Barras\n",
    "\n",
    "Crie um gráfico de barras que exiba o número de vendas por categoria de produtos. Os dados podem ser fictícios.\n"
   ]
  },
  {
   "cell_type": "code",
   "execution_count": 62,
   "metadata": {},
   "outputs": [
    {
     "data": {
      "image/png": "[encoded data removed]",
      "text/plain": [
       "<Figure size 640x480 with 1 Axes>"
      ]
     },
     "metadata": {},
     "output_type": "display_data"
    }
   ],
   "source": [
    "import matplotlib.pyplot as plt\n",
    "\n",
    "categorias = ['Eletrônicos', 'Roupas', 'Alimentos', 'Móveis', 'Livros']\n",
    "vendas = [150, 200, 350, 100, 250]\n",
    "\n",
    "plt.bar(categorias, vendas, color='skyblue')\n",
    "plt.title('Número de Vendas por Categoria de Produto')\n",
    "plt.xlabel('Categoria')\n",
    "plt.ylabel('Número de Vendas')\n",
    "\n",
    "plt.show()\n"
   ]
  },
  {
   "cell_type": "markdown",
   "metadata": {},
   "source": [
    "### Exercício 32: Análise de Dados com DataFrames\n",
    "\n",
    "Usando o módulo `pandas`, implemente um código que:\n",
    "\n",
    "1. Crie um DataFrame com dados fictícios (exemplo: produtos, preços, quantidade em estoque).\n",
    "2. Retorne o produto mais caro e o estoque total de todos os produtos.\n"
   ]
  },
  {
   "cell_type": "code",
   "execution_count": null,
   "metadata": {},
   "outputs": [],
   "source": [
    "# Resposta do Exercício 32"
   ]
  },
  {
   "cell_type": "markdown",
   "metadata": {},
   "source": [
    "### Exercício 33: Histograma de Frequências\n",
    "\n",
    "Usando o módulo `matplotlib`, escreva um código que gere um histograma para um conjunto de dados fictícios de notas de alunos.\n"
   ]
  },
  {
   "cell_type": "code",
   "execution_count": 63,
   "metadata": {},
   "outputs": [
    {
     "data": {
      "image/png": "[encoded data removed]",
      "text/plain": [
       "<Figure size 640x480 with 1 Axes>"
      ]
     },
     "metadata": {},
     "output_type": "display_data"
    }
   ],
   "source": [
    "import matplotlib.pyplot as plt\n",
    "\n",
    "notas = [7.5, 8.0, 6.0, 9.5, 7.0, 5.5, 8.5, 6.5, 7.5, 9.0, 6.5, 8.0, 7.0, 5.0, 9.5]\n",
    "\n",
    "plt.hist(notas, bins=5, color='lightgreen', edgecolor='black')\n",
    "plt.title('Histograma de Notas dos Alunos')\n",
    "plt.xlabel('Notas')\n",
    "plt.ylabel('Frequência')\n",
    "\n",
    "plt.show()\n"
   ]
  },
  {
   "cell_type": "markdown",
   "metadata": {},
   "source": [
    "### Exercício 34: Loop em DataFrames\n",
    "\n",
    "Usando o módulo `pandas`, escreva um código que percorra um DataFrame com dados fictícios e exiba apenas as linhas onde a idade seja maior que 30.\n"
   ]
  },
  {
   "cell_type": "code",
   "execution_count": null,
   "metadata": {},
   "outputs": [],
   "source": [
    "# Resposta do Exercício 34"
   ]
  }
 ],
 "metadata": {
  "kernelspec": {
   "display_name": "Python 3 (ipykernel)",
   "language": "python",
   "name": "python3"
  },
  "language_info": {
   "codemirror_mode": {
    "name": "ipython",
    "version": 3
   },
   "file_extension": ".py",
   "mimetype": "text/x-python",
   "name": "python",
   "nbconvert_exporter": "python",
   "pygments_lexer": "ipython3",
   "version": "3.11.7"
  }
 },
 "nbformat": 4,
 "nbformat_minor": 4
}
