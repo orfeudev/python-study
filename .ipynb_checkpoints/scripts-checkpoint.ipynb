{
 "cells": [
  {
   "cell_type": "markdown",
   "id": "12f73a1e-1b29-4937-8ec6-637fef11a4a8",
   "metadata": {},
   "source": [
    "#### Faça um programa que tenha uma função chamada amplitude. A função deve receber uma lista e imprimir a amplitude. crie também um código para testar sua função"
   ]
  },
  {
   "cell_type": "code",
   "execution_count": 10,
   "id": "2e1fccb2-ffea-4d79-b5ce-482817209398",
   "metadata": {},
   "outputs": [
    {
     "name": "stdout",
     "output_type": "stream",
     "text": [
      "8\n"
     ]
    },
    {
     "name": "stdin",
     "output_type": "stream",
     "text": [
      "Digite sua lista:  123123123123\n"
     ]
    },
    {
     "name": "stdout",
     "output_type": "stream",
     "text": [
      "12\n"
     ]
    }
   ],
   "source": [
    "lista = ['a','b','c','d','e','f','g','h']\n",
    "\n",
    "def listalenght(a):\n",
    "    return(len(a))\n",
    "\n",
    "tamanholista = listalenght(lista)\n",
    "print(tamanholista)\n",
    "usuariolista = list(input('Digite sua lista: '))\n",
    "print(listalenght(usuariolista))\n"
   ]
  },
  {
   "cell_type": "markdown",
   "id": "54342c23-f652-411b-8056-d53f57ff65ee",
   "metadata": {},
   "source": [
    "#### 2. faça uma função que receba uma string e imprima esta string na forma vertical."
   ]
  },
  {
   "cell_type": "code",
   "execution_count": 40,
   "id": "200890d9-4836-46b5-9fc3-21be24f03b4c",
   "metadata": {},
   "outputs": [
    {
     "name": "stdout",
     "output_type": "stream",
     "text": [
      "a\n",
      "b\n",
      "c\n",
      "d\n"
     ]
    },
    {
     "name": "stdin",
     "output_type": "stream",
     "text": [
      "Digite uma palavra:  anc\n"
     ]
    },
    {
     "name": "stdout",
     "output_type": "stream",
     "text": [
      "a\n",
      "n\n",
      "c\n"
     ]
    },
    {
     "name": "stdin",
     "output_type": "stream",
     "text": [
      "Digite uma palavra:  abc\n"
     ]
    },
    {
     "name": "stdout",
     "output_type": "stream",
     "text": [
      "c\n",
      "b\n",
      "a\n"
     ]
    }
   ],
   "source": [
    "def vertical(lista):\n",
    "    for i in lista:\n",
    "        print(i)\n",
    "\n",
    "lista1 = ['a', 'b', 'c', 'd']\n",
    "vertical(lista1) \n",
    "\n",
    "def printvertical():\n",
    "    palavra = input('Digite uma palavra: ')\n",
    "    for letra in palavra:\n",
    "        print(letra)\n",
    "printvertical()\n",
    "\n",
    "def contrario():\n",
    "    palavra = input('Digite uma palavra: ')\n",
    "    for letra in palavra[::-1]:\n",
    "        print(letra)\n",
    "contrario()"
   ]
  },
  {
   "cell_type": "markdown",
   "id": "8c9f0f3f-608d-45ee-b440-1b08973f5a1c",
   "metadata": {},
   "source": [
    "#### Crie um programa que leia o peso de uma carga em números inteiros. Se o peso for até 10kg, informe que o valor será de R$ 50.00 $  entre 11 e 20kg, informe que o valor será de R$ 80. Se for maior que 20 informe que o transporte não é aceito. Teste vários pesos"
   ]
  },
  {
   "cell_type": "code",
   "execution_count": 60,
   "id": "6f4fd996-43ff-4f2d-a087-6fd476b178ae",
   "metadata": {},
   "outputs": [
    {
     "name": "stdout",
     "output_type": "stream",
     "text": [
      "O valor para o transporte da sua carga é de 80 reais.\n"
     ]
    },
    {
     "name": "stdin",
     "output_type": "stream",
     "text": [
      "Qual o peso da carga? 5\n"
     ]
    },
    {
     "name": "stdout",
     "output_type": "stream",
     "text": [
      "O valor para o transporte da sua carga é de 50 reais.\n"
     ]
    }
   ],
   "source": [
    "def peso_carga(peso = None , medida = 'kg'):\n",
    "    if peso is None:\n",
    "        peso = int(input('Qual o peso da carga?'))\n",
    "    if 0 <= peso <= 10:\n",
    "        print('O valor para o transporte da sua carga é de 50 reais.')\n",
    "    elif 11 <= peso <= 20:\n",
    "        print('O valor para o transporte da sua carga é de 80 reais.')\n",
    "    else:\n",
    "        print('O transporte da sua carga não será aceito.')\n",
    "peso_carga(12)\n",
    "peso_carga()"
   ]
  }
 ],
 "metadata": {
  "kernelspec": {
   "display_name": "Python 3 (ipykernel)",
   "language": "python",
   "name": "python3"
  },
  "language_info": {
   "codemirror_mode": {
    "name": "ipython",
    "version": 3
   },
   "file_extension": ".py",
   "mimetype": "text/x-python",
   "name": "python",
   "nbconvert_exporter": "python",
   "pygments_lexer": "ipython3",
   "version": "3.11.7"
  }
 },
 "nbformat": 4,
 "nbformat_minor": 5
}
