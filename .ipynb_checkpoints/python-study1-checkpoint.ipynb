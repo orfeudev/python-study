{
 "cells": [
  {
   "cell_type": "code",
   "execution_count": 66,
   "id": "d76a60f1-5687-4bd3-b129-55e46d042127",
   "metadata": {},
   "outputs": [
    {
     "name": "stdout",
     "output_type": "stream",
     "text": [
      "1\n",
      "2\n",
      "3\n",
      "4\n",
      "5\n"
     ]
    }
   ],
   "source": [
    "#estrutura de repetição\n",
    "count=1\n",
    "while count <= 5:\n",
    "    print(count)\n",
    "    count+= 1"
   ]
  },
  {
   "cell_type": "code",
   "execution_count": null,
   "id": "46c95972-8499-4dd8-9bb6-590a3279b70f",
   "metadata": {},
   "outputs": [],
   "source": []
  },
  {
   "cell_type": "code",
   "execution_count": 5,
   "id": "e8eddad0-af35-444e-ab32-a684354ca7fd",
   "metadata": {},
   "outputs": [
    {
     "name": "stdout",
     "output_type": "stream",
     "text": [
      "0\n",
      "2\n",
      "4\n",
      "6\n",
      "8\n"
     ]
    }
   ],
   "source": [
    "#estrutura de repetição\n",
    "for n in range(0,10,2):\n",
    "    print(n)"
   ]
  },
  {
   "cell_type": "code",
   "execution_count": 24,
   "id": "4e03f807-b5b8-4196-b35a-d2575d091286",
   "metadata": {},
   "outputs": [
    {
     "name": "stdout",
     "output_type": "stream",
     "text": [
      "[1, 2, 3, 4, 5]\n",
      "['1', 2, [1, 2, 3]]\n",
      "[0, 2, 4, 6, 8]\n",
      "<class 'str'>\n"
     ]
    }
   ],
   "source": [
    "#listas no python não precisam ser do mesmo tipo\n",
    "lst = [1,2,3,4,5]\n",
    "lst2 = [\"1\", 2, [1,2,3]]\n",
    "lst4 = list(range(0,10,2))\n",
    "\n",
    "print(lst)\n",
    "print (lst2)\n",
    "print(lst4)\n",
    "len(lst)\n",
    "print(type(lst2[0]))"
   ]
  },
  {
   "cell_type": "code",
   "execution_count": 14,
   "id": "628f9a2d-4954-4bd9-83c3-ef59c5407870",
   "metadata": {},
   "outputs": [
    {
     "name": "stdout",
     "output_type": "stream",
     "text": [
      "{'arroz': 5.5, 'feijão': 6.1, 'sorvete': 2.2}\n"
     ]
    }
   ],
   "source": [
    "#dicionários salvam dados em pares chave:valor, ou seja, dados associados, como o Nome de uma pessoa e o seu CPF.\n",
    "precos = {'arroz':5.5, 'feijão':6.1, 'sorvete':2.2}\n",
    "print(precos)\n"
   ]
  },
  {
   "cell_type": "code",
   "execution_count": 16,
   "id": "bded503c-ed7a-40d7-9356-7632b9e9e7dd",
   "metadata": {},
   "outputs": [
    {
     "name": "stdout",
     "output_type": "stream",
     "text": [
      "{'passaro', 'cachorro', 'gato'}\n"
     ]
    }
   ],
   "source": [
    "#sets são conjuntos não ordenados de elementos que não se repetem.\n",
    "set1 = {'gato','gato','cachorro','passaro'}\n",
    "print(set1)"
   ]
  },
  {
   "cell_type": "code",
   "execution_count": 17,
   "id": "bddb9505-5c93-4644-9d1f-9b901e9473ff",
   "metadata": {},
   "outputs": [
    {
     "name": "stdout",
     "output_type": "stream",
     "text": [
      "(1, 2, 3, 4, 5, 'gato', '1')\n"
     ]
    }
   ],
   "source": [
    "#tuplas são listas que não podem ser alteradas.\n",
    "\n",
    "tp1 = (1,2,3,4,5,'gato','1')\n",
    "print(tp1)\n"
   ]
  },
  {
   "cell_type": "code",
   "execution_count": 19,
   "id": "6451598b-dbe1-4b8e-9be8-035a4cecafb4",
   "metadata": {},
   "outputs": [
    {
     "name": "stdout",
     "output_type": "stream",
     "text": [
      "[12 34 26 18 10]\n",
      "int32\n"
     ]
    }
   ],
   "source": [
    "#numpy\n",
    "import numpy as np\n",
    "#cria uma matriz unidimensional\n",
    "a = np.array([12,34,26,18,10])\n",
    "print(a)\n",
    "print(a.dtype)"
   ]
  },
  {
   "cell_type": "code",
   "execution_count": null,
   "id": "88755e94-6da6-4770-bf2c-670bb1ca89b4",
   "metadata": {},
   "outputs": [],
   "source": [
    "#utilizando pandas\n",
    "#consegue importar e gerir dados tabulares\n",
    "#if required pip install pandas\n",
    "import pandas as pd\n",
    "\n",
    "dados = pd.read_csv('nome do arquivo')\n"
   ]
  },
  {
   "cell_type": "code",
   "execution_count": 65,
   "id": "937f9e33-6502-4e01-8f4a-95ea4db4b3af",
   "metadata": {},
   "outputs": [
    {
     "name": "stdout",
     "output_type": "stream",
     "text": [
      "7.666666666666667\n",
      "10\n",
      "10\n",
      "4.041451884327381\n",
      "16.333333333333332\n"
     ]
    }
   ],
   "source": [
    "#utilizando módulos\n",
    "import statistics\n",
    "a = 3\n",
    "b = 10\n",
    "c = 10\n",
    "mean = statistics.mean([a,b,c])\n",
    "median = statistics.median([a,b,c])\n",
    "mode = statistics.mode([a,b,c])\n",
    "desviopadrao = statistics.stdev([a,b,c])\n",
    "variance = statistics.variance([a,b,c])\n",
    "print(mean)\n",
    "print(median)\n",
    "print(mode)\n",
    "print(desviopadrao)\n",
    "print(variance)"
   ]
  },
  {
   "cell_type": "code",
   "execution_count": 35,
   "id": "8dfc7f85-3f8c-49ac-9b2a-1520e420af80",
   "metadata": {},
   "outputs": [
    {
     "name": "stdout",
     "output_type": "stream",
     "text": [
      "esta é uma função\n"
     ]
    }
   ],
   "source": [
    "#funções são blocos de código reutilizáveis \n",
    "def imprime():\n",
    "    print(\"esta é uma função\")\n",
    "\n",
    "#executando a função\n",
    "imprime()"
   ]
  },
  {
   "cell_type": "code",
   "execution_count": 52,
   "id": "136c755e-e9ef-4513-986d-4075aa063af6",
   "metadata": {},
   "outputs": [
    {
     "name": "stdout",
     "output_type": "stream",
     "text": [
      "4\n"
     ]
    }
   ],
   "source": [
    "def potencia(n):\n",
    "    return n*n\n",
    "\n",
    "x = potencia(2)\n",
    "print(x)"
   ]
  },
  {
   "cell_type": "code",
   "execution_count": 61,
   "id": "423a8c13-7bda-420c-a54c-462df1e0436b",
   "metadata": {},
   "outputs": [
    {
     "name": "stdout",
     "output_type": "stream",
     "text": [
      "1\n",
      "2\n",
      "3\n",
      "4\n",
      "5\n",
      "6\n",
      "7\n",
      "8\n",
      "9\n",
      "10\n",
      "1\n",
      "2\n",
      "3\n",
      "1\n",
      "2\n",
      "3\n",
      "4\n",
      "5\n",
      "6\n",
      "7\n",
      "8\n",
      "9\n",
      "10\n"
     ]
    }
   ],
   "source": [
    "#Exemplo default\n",
    "def intervalo(inic=1,fim=10):\n",
    "    for inic in range (1, fim+1):\n",
    "        print(inic)\n",
    "intervalo(1,10)\n",
    "intervalo(1,3)\n",
    "intervalo()"
   ]
  },
  {
   "cell_type": "code",
   "execution_count": 110,
   "id": "02fe5292-9813-4481-8c36-44407114e054",
   "metadata": {},
   "outputs": [
    {
     "name": "stdin",
     "output_type": "stream",
     "text": [
      "Digite sua nota 7\n"
     ]
    },
    {
     "name": "stdout",
     "output_type": "stream",
     "text": [
      "aprovado por média\n"
     ]
    }
   ],
   "source": [
    "#estruturas de decisão if, elif e else\n",
    "nota = float(input(\"Digite sua nota\"))\n",
    "if 7 <= nota < 8:\n",
    "    print('aprovado por média')\n",
    "elif 8 <= nota < 9:\n",
    "    print(\"muito bem\")\n",
    "elif 10 >= nota >= 9:\n",
    "    print('Parabéns!!')\n",
    "elif 0 <= nota < 7:\n",
    "    print('reprovado')\n",
    "    \n",
    "else: print('Número inválido, digite uma nota entre 0 e 10.')\n"
   ]
  },
  {
   "cell_type": "code",
   "execution_count": 8,
   "id": "41eedfe2-8b9d-4ebe-8748-188bee403253",
   "metadata": {},
   "outputs": [
    {
     "name": "stdin",
     "output_type": "stream",
     "text": [
      "digite a primeira nota:  5\n",
      "digite a segunda nota:  5\n",
      "digite a terceira nota:  5\n"
     ]
    },
    {
     "name": "stdout",
     "output_type": "stream",
     "text": [
      "reprovado\n"
     ]
    }
   ],
   "source": [
    "#estruturas de decisão if, elif e else\n",
    "def notas():\n",
    "    a = float(input('digite a primeira nota: '))\n",
    "    b = float(input('digite a segunda nota: '))\n",
    "    c = float(input('digite a terceira nota: '))\n",
    "\n",
    "    if not (0 <= a <= 10 and 0 <= b <= 10 and 0 <= c <= 10):\n",
    "        print('Operação inválida, as notas devem estar entre 0 e 10.')\n",
    "        return\n",
    "           \n",
    "    media = (a+b+c)/3\n",
    "    if 7 <= media < 8:\n",
    "        print('aprovado por média')\n",
    "    elif 8 <= media < 9:\n",
    "        print(\"muito bem\")\n",
    "    elif 10 >= media >= 9:\n",
    "        print('Parabéns!!')\n",
    "    elif 0 <= media < 7:\n",
    "        print('reprovado')\n",
    "        \n",
    "notas()\n"
   ]
  },
  {
   "cell_type": "code",
   "execution_count": 15,
   "id": "9654f284-48b0-4457-b0cc-9ddc4c15885d",
   "metadata": {},
   "outputs": [
    {
     "name": "stdout",
     "output_type": "stream",
     "text": [
      "Explode! Azedo!\n",
      "1,2,3\n"
     ]
    }
   ],
   "source": [
    "def imprime(n):\n",
    "    print(n)\n",
    "\n",
    "imprime(\"Explode! Azedo!\")\n",
    "imprime(\"1,2,3\")"
   ]
  },
  {
   "cell_type": "code",
   "execution_count": 7,
   "id": "460406ca-5895-4b50-a652-2e7c655cc480",
   "metadata": {},
   "outputs": [
    {
     "name": "stdout",
     "output_type": "stream",
     "text": [
      "0\n",
      "2\n",
      "4\n",
      "6\n",
      "8\n"
     ]
    }
   ],
   "source": [
    "#range(0,10,1):\n",
    "#range(inicio,parada,incremento)\n",
    "#o python ignora o ultimo valor de intervalos\n",
    "#o incremento pode ser negativo\n",
    "\n",
    "for i in range(0,10,2):\n",
    "    print(i)\n",
    "    "
   ]
  },
  {
   "cell_type": "code",
   "execution_count": 9,
   "id": "bdef2962-eee0-492b-9341-e1086883ee0d",
   "metadata": {},
   "outputs": [
    {
     "name": "stdout",
     "output_type": "stream",
     "text": [
      "10\n",
      "8\n",
      "6\n",
      "4\n",
      "2\n"
     ]
    }
   ],
   "source": [
    "for i in range(10,0,-2):\n",
    "    print(i)"
   ]
  },
  {
   "cell_type": "code",
   "execution_count": 11,
   "id": "b6a8cce9-a6df-4b57-a849-518a7e6c1a96",
   "metadata": {},
   "outputs": [
    {
     "name": "stdout",
     "output_type": "stream",
     "text": [
      "10\n",
      "8\n",
      "6\n"
     ]
    }
   ],
   "source": [
    "for i in range(10,0,-2):\n",
    "    if i==4:\n",
    "        break\n",
    "    print(i)"
   ]
  },
  {
   "cell_type": "code",
   "execution_count": 12,
   "id": "5bef5d42-a16f-4a11-beed-fa885a8024fd",
   "metadata": {},
   "outputs": [
    {
     "name": "stdout",
     "output_type": "stream",
     "text": [
      "10\n",
      "8\n",
      "6\n",
      "2\n"
     ]
    }
   ],
   "source": [
    "for i in range(10,0,-2):\n",
    "    if i==4:\n",
    "        continue\n",
    "    print(i)"
   ]
  },
  {
   "cell_type": "code",
   "execution_count": 44,
   "id": "6fca81de-7acf-43f8-8b6c-29eafec60891",
   "metadata": {},
   "outputs": [
    {
     "name": "stdout",
     "output_type": "stream",
     "text": [
      "esta é a lista:  [0, 1, 2, 3, 4, 5, 6, 7, 8, 9]\n",
      "este é o tamanho da lista:  10\n",
      "vamos percorrer a lista:  0\n",
      "vamos percorrer a lista:  1\n",
      "vamos percorrer a lista:  2\n",
      "vamos percorrer a lista:  3\n",
      "vamos percorrer a lista:  4\n",
      "vamos percorrer a lista:  5\n",
      "vamos percorrer a lista:  6\n",
      "vamos percorrer a lista:  7\n",
      "vamos percorrer a lista:  8\n",
      "vamos percorrer a lista:  9\n"
     ]
    }
   ],
   "source": [
    "#percorrendo uma lista\n",
    "lst4 = list(range(0,10))\n",
    "print('esta é a lista: ',lst4)\n",
    "print('este é o tamanho da lista: ',len(lst4))\n",
    "for n in range(0,len(lst4)):\n",
    "    if n < 10:\n",
    "     print('vamos percorrer a lista: ',lst4[n])"
   ]
  },
  {
   "cell_type": "code",
   "execution_count": 65,
   "id": "720395cb-e8f5-4c8e-b0bb-e0ecef0d8c29",
   "metadata": {},
   "outputs": [
    {
     "name": "stdout",
     "output_type": "stream",
     "text": [
      "{'Joaozinho': 5.0, 'Romario': 10.0, 'Sebastião': 9.0, 'Isaque': 8.0}\n",
      "dict_values([5.0, 10.0, 9.0, 8.0])\n",
      "dict_keys(['Joaozinho', 'Romario', 'Sebastião', 'Isaque'])\n"
     ]
    }
   ],
   "source": [
    "#criando um dicionario\n",
    "notas = {'Joaozinho': 5.0, 'Romario':10.0, 'Sebastião':9.0, 'Isaque':8.0}\n",
    "print(notas)\n",
    "print(notas.values())\n",
    "print(notas.keys())\n"
   ]
  },
  {
   "cell_type": "code",
   "execution_count": 66,
   "id": "199ec1e2-cb32-4008-8cbb-81d0d2c0fc19",
   "metadata": {},
   "outputs": [
    {
     "name": "stdout",
     "output_type": "stream",
     "text": [
      "True\n"
     ]
    }
   ],
   "source": [
    "#testa logicamente a existência\n",
    "print('Joaozinho' in notas)\n"
   ]
  },
  {
   "cell_type": "code",
   "execution_count": 67,
   "id": "9504ff67-4c0e-4ec6-aa3b-a87d7c5b17a4",
   "metadata": {},
   "outputs": [
    {
     "name": "stdout",
     "output_type": "stream",
     "text": [
      "{'Romario': 10.0, 'Sebastião': 9.0, 'Isaque': 8.0}\n"
     ]
    }
   ],
   "source": [
    "#apaga um elemento\n",
    "del notas['Joaozinho']\n",
    "print(notas)"
   ]
  },
  {
   "cell_type": "code",
   "execution_count": 68,
   "id": "7d643964-430f-48d5-87a6-e82b6188c866",
   "metadata": {},
   "outputs": [
    {
     "name": "stdout",
     "output_type": "stream",
     "text": [
      "{'Romario': 10.0, 'Sebastião': 9.0, 'Isaque': 8.0, 'Norhan': 10.0}\n"
     ]
    }
   ],
   "source": [
    "#inclui um elemento\n",
    "notas['Norhan']= 10.0\n",
    "print(notas)"
   ]
  },
  {
   "cell_type": "code",
   "execution_count": 69,
   "id": "979105a8-583f-4215-8945-e9a1761d4b6d",
   "metadata": {},
   "outputs": [
    {
     "data": {
      "text/plain": [
       "'Não encontrado.'"
      ]
     },
     "execution_count": 69,
     "metadata": {},
     "output_type": "execute_result"
    }
   ],
   "source": [
    "#busca um valor, se não encontrar, mostra o segundo parametro.\n",
    "notas.get('Geraldo','Não encontrado.')"
   ]
  }
 ],
 "metadata": {
  "kernelspec": {
   "display_name": "Python 3 (ipykernel)",
   "language": "python",
   "name": "python3"
  },
  "language_info": {
   "codemirror_mode": {
    "name": "ipython",
    "version": 3
   },
   "file_extension": ".py",
   "mimetype": "text/x-python",
   "name": "python",
   "nbconvert_exporter": "python",
   "pygments_lexer": "ipython3",
   "version": "3.11.7"
  }
 },
 "nbformat": 4,
 "nbformat_minor": 5
}
