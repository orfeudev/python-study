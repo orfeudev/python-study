{
 "cells": [
  {
   "cell_type": "markdown",
   "id": "0d151e1a-31f0-42b4-9943-d468066c1883",
   "metadata": {},
   "source": [
    "## Módulos e pacotes"
   ]
  },
  {
   "cell_type": "code",
   "execution_count": 4,
   "id": "2d108899-0762-4d5a-8b15-5e076b69f106",
   "metadata": {},
   "outputs": [
    {
     "name": "stdout",
     "output_type": "stream",
     "text": [
      "[0, 2, 4, 6, 8, 10, 12, 14, 16, 18, 20, 22, 24, 26, 28]\n",
      "14\n",
      "14\n"
     ]
    }
   ],
   "source": [
    "import statistics\n",
    "z = list(range(0,30,2))\n",
    "print(z)\n",
    "x = statistics.mean(z)\n",
    "y = statistics.median(z)\n",
    "print(x)\n",
    "print(y)\n",
    "\n"
   ]
  },
  {
   "cell_type": "code",
   "execution_count": 6,
   "id": "f7b31845-673d-402e-b4b9-b0fed491974f",
   "metadata": {},
   "outputs": [
    {
     "name": "stdout",
     "output_type": "stream",
     "text": [
      "[0, 2, 4, 6, 8, 10, 12, 14, 16, 18, 20, 22, 24, 26, 28]\n",
      "14\n",
      "8.94427190999916\n"
     ]
    }
   ],
   "source": [
    "import statistics as est\n",
    "z=list(range(0,30,2))\n",
    "print(z)\n",
    "x = est.mean(z)\n",
    "y = est.stdev(z)\n",
    "print(x)\n",
    "print(y)"
   ]
  },
  {
   "cell_type": "code",
   "execution_count": 7,
   "id": "15d27510-f0ab-4583-8b0f-312ba0f263c6",
   "metadata": {},
   "outputs": [
    {
     "name": "stdout",
     "output_type": "stream",
     "text": [
      "[0, 2, 4, 6, 8, 10, 12, 14, 16, 18, 20, 22, 24, 26, 28]\n",
      "14\n",
      "14\n"
     ]
    }
   ],
   "source": [
    "from statistics import mean, median\n",
    "z=list(range(0,30,2))\n",
    "print(z)\n",
    "x = mean(z)\n",
    "y = median(z)\n",
    "print(x)\n",
    "print(y)"
   ]
  },
  {
   "cell_type": "code",
   "execution_count": 9,
   "id": "825e7df9-9101-42c5-8077-b7eb66f58d90",
   "metadata": {},
   "outputs": [
    {
     "name": "stdout",
     "output_type": "stream",
     "text": [
      "[0, 2, 4, 6, 8, 10, 12, 14, 16, 18, 20, 22, 24, 26, 28]\n",
      "14\n",
      "8.94427190999916\n"
     ]
    }
   ],
   "source": [
    "from statistics import *\n",
    "\n",
    "z=list(range(0,30,2))\n",
    "print(z)\n",
    "x = mean(z)\n",
    "y = stdev(z)\n",
    "print(x)\n",
    "print(y)"
   ]
  }
 ],
 "metadata": {
  "kernelspec": {
   "display_name": "Python 3 (ipykernel)",
   "language": "python",
   "name": "python3"
  },
  "language_info": {
   "codemirror_mode": {
    "name": "ipython",
    "version": 3
   },
   "file_extension": ".py",
   "mimetype": "text/x-python",
   "name": "python",
   "nbconvert_exporter": "python",
   "pygments_lexer": "ipython3",
   "version": "3.11.7"
  }
 },
 "nbformat": 4,
 "nbformat_minor": 5
}
