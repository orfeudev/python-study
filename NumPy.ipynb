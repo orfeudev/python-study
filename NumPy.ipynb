{
 "cells": [
  {
   "cell_type": "markdown",
   "id": "d1fb5c5d-d9d6-4b50-a6c1-9641afb03b57",
   "metadata": {},
   "source": [
    "### Estudando numerical python(NumPy)\n",
    " ##### o que o numpy permite:\n",
    " #####  Manipular objetos array multidimensionais, como matrizes e sequências\n",
    "  ##### Realizar operações matemáticas e lógicas\n",
    "  ##### Manipular formatos\n",
    "  ##### Ordenar e selecionar\n",
    "  ##### Utilizar ferramentas de estatística e cálculo\n",
    "  ##### Gerar números aleatórios\n",
    "  ##### Realizar álgebra linear\n",
    "  ##### Executar transformadas discretas de Fourier"
   ]
  },
  {
   "cell_type": "code",
   "execution_count": 1,
   "id": "349c3588-62e5-4338-836c-f1577c0081b7",
   "metadata": {},
   "outputs": [],
   "source": [
    "import numpy as np"
   ]
  },
  {
   "cell_type": "code",
   "execution_count": 2,
   "id": "d2679d44-e256-4c26-b43e-ed67346b7697",
   "metadata": {},
   "outputs": [
    {
     "name": "stdout",
     "output_type": "stream",
     "text": [
      "['12' '34' 'a' '26' '18' '10']\n",
      "<class 'numpy.ndarray'>\n"
     ]
    }
   ],
   "source": [
    "# cria uma matriz unidimensional\n",
    "mt = np.array([12,34,'a',26,18,10])\n",
    "print(mt)\n",
    "print(type(mt))"
   ]
  },
  {
   "cell_type": "code",
   "execution_count": 7,
   "id": "d92b8303-d91b-4f8f-ac54-75554fd21aa2",
   "metadata": {},
   "outputs": [
    {
     "name": "stdout",
     "output_type": "stream",
     "text": [
      "[1. 2. 3.]\n",
      "<class 'numpy.ndarray'>\n",
      "[1 2 3]\n",
      "<class 'numpy.ndarray'>\n"
     ]
    }
   ],
   "source": [
    "#criar o array com um tipo específico\n",
    "#cria o array como float de 64bits\n",
    "mtfloat = np.array([1,2,3], dtype = np.float64)\n",
    "print(mtfloat)\n",
    "print(type(mtfloat))\n",
    "mtint = np.array([1,2,3], dtype = np.int32)\n",
    "print(mtint)\n",
    "print(type(mtint))\n",
    "#quando isso pode ser necessário?:\n",
    "# Otimização de Memória:\n",
    "#Para reduzir o uso de memória em grandes datasets. \n",
    "#Um array de int32 consome menos memória do que um de int64.\n"
   ]
  },
  {
   "cell_type": "code",
   "execution_count": 20,
   "id": "d94e6524-ee80-40a6-9fcf-7493fbd35591",
   "metadata": {},
   "outputs": [
    {
     "name": "stdout",
     "output_type": "stream",
     "text": [
      "[1.4  3.6  5.1  9.42 4.99]\n",
      "[1 3 5 9 4]\n",
      "[1 2 3 4]\n",
      "[1. 2. 3. 4.]\n"
     ]
    }
   ],
   "source": [
    "#mudar o tipo do array\n",
    "#É possível transformar tipos de dados de arrays\n",
    "mtnew = np.array([1.4,3.6,5.1,9.42,4.99])\n",
    "print(mtnew)\n",
    "#quando transformados de float para int os valores são truncados\n",
    "mtnewint = mtnew.astype(np.int32)\n",
    "print(mtnewint)\n",
    "#o inverso tambem pode ser feito.\n",
    "mtnew2 = np.array([1,2,3,4])\n",
    "print(mtnew2)\n",
    "mtnew2int = mtnew2.astype(np.float32)\n",
    "print(mtnew2int)"
   ]
  },
  {
   "cell_type": "code",
   "execution_count": 21,
   "id": "d8300f14-7f58-4193-b3e2-cbc60212950b",
   "metadata": {},
   "outputs": [
    {
     "name": "stdout",
     "output_type": "stream",
     "text": [
      "[[ 7  2 23]\n",
      " [12 27  4]\n",
      " [ 2  3  3]]\n"
     ]
    }
   ],
   "source": [
    "#matriz multidimensional\n",
    "mt7 = np.array([[7,2,23],[12,27,4],[2,3,3]])\n",
    "print(mt7)\n",
    "            "
   ]
  },
  {
   "cell_type": "code",
   "execution_count": 22,
   "id": "9d429cce-9068-4dfd-9a61-c3639059e68e",
   "metadata": {},
   "outputs": [
    {
     "name": "stdout",
     "output_type": "stream",
     "text": [
      "Matriz 2D:\n",
      "[[1 2 3]\n",
      " [4 5 6]\n",
      " [7 8 9]]\n",
      "\n",
      "Matriz 3D:\n",
      "[[[ 1  2  3]\n",
      "  [ 4  5  6]\n",
      "  [ 7  8  9]]\n",
      "\n",
      " [[10 11 12]\n",
      "  [13 14 15]\n",
      "  [16 17 18]]\n",
      "\n",
      " [[19 20 21]\n",
      "  [22 23 24]\n",
      "  [25 26 27]]]\n"
     ]
    }
   ],
   "source": [
    "matriz_2D = np.array([[1, 2, 3], [4, 5, 6], [7, 8, 9]])\n",
    "print(\"Matriz 2D:\")\n",
    "print(matriz_2D)\n",
    "\n",
    "# Criar uma matriz 3x3x3 (3D)\n",
    "matriz_3D = np.array([[[1, 2, 3], [4, 5, 6], [7, 8, 9]],\n",
    "                      [[10, 11, 12], [13, 14, 15], [16, 17, 18]],\n",
    "                      [[19, 20, 21], [22, 23, 24], [25, 26, 27]]])\n",
    "print(\"\\nMatriz 3D:\")\n",
    "print(matriz_3D)"
   ]
  },
  {
   "cell_type": "code",
   "execution_count": null,
   "id": "fa01ab38-ed1e-40cb-aa28-9631bbb112c5",
   "metadata": {},
   "outputs": [],
   "source": [
    "# NumPy e Matrizes: Importância e Benefícios\n",
    "\n",
    "# 1. Eficiência e Desempenho\n",
    "# - NumPy é otimizado para operações com arrays e matrizes, permitindo cálculos mais rápidos\n",
    "#   em comparação com listas nativas do Python.\n",
    "# - Matrizes multidimensionais permitem manipular grandes volumes de dados de forma eficiente.\n",
    "\n",
    "# 2. Representação de Dados Estruturados\n",
    "# - Arrays 2D podem ser usados para representar tabelas (linhas e colunas).\n",
    "# - Arrays 3D ou superiores são ideais para dados complexos, como imagens, séries temporais\n",
    "#   e tensores usados em aprendizado de máquina.\n",
    "\n",
    "# 3. Operações Matemáticas e Científicas\n",
    "# - Suporte integrado para operações como multiplicação de matrizes, álgebra linear,\n",
    "#   transformações e funções matemáticas avançadas.\n",
    "# - Ideal para cálculos científicos e de engenharia.\n",
    "\n",
    "# 4. Compatibilidade com Bibliotecas Avançadas\n",
    "# - NumPy é a base de várias bibliotecas de ciência de dados e aprendizado de máquina,\n",
    "#   como pandas, TensorFlow, PyTorch e scikit-learn.\n",
    "# - Facilita a integração com ferramentas de análise de dados e computação científica.\n",
    "\n",
    "# 5. Redução do Uso de Memória\n",
    "# - Arrays NumPy usam menos memória do que listas ou estruturas nativas do Python,\n",
    "#   especialmente ao trabalhar com grandes conjuntos de dados.\n",
    "\n",
    "# 6. Manipulação de Dados de Alta Dimensionalidade\n",
    "# - Matrizes multidimensionais tornam mais simples e intuitiva a manipulação de dados\n",
    "#   complexos, como imagens (3D) ou dados temporais e espaciais (4D ou superiores).\n",
    "\n",
    "# 7. Versatilidade\n",
    "# - Permite facilmente realizar operações como somas, médias, transposições,\n",
    "#   reshaping e slicing em dados estruturados.\n",
    "\n",
    "# 8. Suporte para Operações Vetorizadas\n",
    "# - Operações em arrays são vetorizadas, eliminando a necessidade de loops explícitos,\n",
    "#   o que melhora o desempenho e reduz a complexidade do código.\n",
    "\n",
    "# 9. Visualização e Análise\n",
    "# - Arrays multidimensionais podem ser facilmente utilizados com bibliotecas de\n",
    "#   visualização como Matplotlib para gerar gráficos e imagens.\n",
    "\n",
    "# NumPy é uma ferramenta indispensável para processamento de dados, cálculos matemáticos\n",
    "# e manipulação de estruturas de dados em Python, sendo amplamente utilizado\n",
    "# em ciência de dados, inteligência artificial e computação científica.\n"
   ]
  },
  {
   "cell_type": "code",
   "execution_count": 4,
   "id": "dee236d6-8b92-4328-b116-ea1bff803dc5",
   "metadata": {},
   "outputs": [
    {
     "name": "stdout",
     "output_type": "stream",
     "text": [
      "[[1169923296        407]\n",
      " [         0          0]\n",
      " [         1  660930562]]\n",
      "---------\n",
      "[[0. 0. 0.]\n",
      " [0. 0. 0.]\n",
      " [0. 0. 0.]\n",
      " [0. 0. 0.]]\n",
      "---------\n",
      "[[1. 1. 1. 1. 1. 1. 1.]\n",
      " [1. 1. 1. 1. 1. 1. 1.]\n",
      " [1. 1. 1. 1. 1. 1. 1.]\n",
      " [1. 1. 1. 1. 1. 1. 1.]\n",
      " [1. 1. 1. 1. 1. 1. 1.]]\n",
      "---------\n",
      "[[1. 0. 0. 0. 0.]\n",
      " [0. 1. 0. 0. 0.]\n",
      " [0. 0. 1. 0. 0.]\n",
      " [0. 0. 0. 1. 0.]\n",
      " [0. 0. 0. 0. 1.]]\n"
     ]
    }
   ],
   "source": [
    "#criar arrays vazios tipificados\n",
    "#empty significa que não serao inicializados, nao que são vazios.\n",
    "vazio = np.empty([3,2], dtype = int)\n",
    "print(vazio)\n",
    "print('---------')\n",
    "zeros = np.zeros([4,3])\n",
    "print(zeros)\n",
    "print('---------')\n",
    "um = np.ones([5,7])\n",
    "print(um)\n",
    "print('---------')\n",
    "#cria matriz quadrada com diagonal principal com valores 1 e os outros valores zero\n",
    "diagonal = np.eye(5)\n",
    "print(diagonal)"
   ]
  },
  {
   "cell_type": "code",
   "execution_count": 9,
   "id": "ce2ccb3a-942c-4ff1-adc1-0906cce8852a",
   "metadata": {},
   "outputs": [
    {
     "name": "stdout",
     "output_type": "stream",
     "text": [
      "[0.25027182 0.71878038 0.2931212  0.727656   0.9407818 ]\n",
      "-----------\n",
      "[-1.47086113 -0.54869683  0.45409555  1.41163886 -0.44615596]\n",
      "-----------\n",
      "[[7.03360504 8.13746982 1.40955485 0.6644082 ]\n",
      " [6.88576467 1.75488324 1.1178052  0.66072092]\n",
      " [9.9097015  4.88447574 7.09282535 4.70708586]]\n"
     ]
    }
   ],
   "source": [
    "#valores aleatorios entre zero e uum\n",
    "ale = np.random.random((5))\n",
    "print(ale)\n",
    "print('-----------')\n",
    "#valores aleatórios distr. normal contendo negativos\n",
    "ale2 = np.random.randn((5))\n",
    "print(ale2)\n",
    "print('-----------')\n",
    "ale3 = (10*np.random.random((3,4)))\n",
    "print(ale3)"
   ]
  },
  {
   "cell_type": "code",
   "execution_count": 10,
   "id": "157a9c84-79c8-4232-b578-bb40f2a1e53c",
   "metadata": {},
   "outputs": [
    {
     "name": "stdout",
     "output_type": "stream",
     "text": [
      "[0.51182162 0.9504637  0.14415961]\n",
      "-----------\n",
      "[[8 9 2 3]\n",
      " [8 4 2 8]\n",
      " [2 4 6 5]]\n"
     ]
    }
   ],
   "source": [
    "#outra forma de gerar aleatórios\n",
    "#uso de semente\n",
    "\n",
    "gnr = np.random.default_rng(1)\n",
    "ale5 = gnr.random(3)\n",
    "print(ale5)\n",
    "print('-----------')\n",
    "#gerar inteiros\n",
    "ale6=gnr.integers(10, size= (3,4))\n",
    "print(ale6)\n"
   ]
  },
  {
   "cell_type": "code",
   "execution_count": 12,
   "id": "8bd93c8e-1dba-4e8a-b516-9bc1cc7f553b",
   "metadata": {},
   "outputs": [
    {
     "name": "stdout",
     "output_type": "stream",
     "text": [
      "[11 11 11 12 13 14]\n",
      "-----------\n",
      "[11 12 13 14]\n"
     ]
    }
   ],
   "source": [
    "#unique remove repetições\n",
    "j = np.array([11,11,11,12,13,14])\n",
    "print(j)\n",
    "print('-----------')\n",
    "b = np.unique(j)\n",
    "print(b)"
   ]
  },
  {
   "cell_type": "code",
   "execution_count": 3,
   "id": "6720d952-27cd-4da6-8c27-f7082df7bf37",
   "metadata": {},
   "outputs": [
    {
     "name": "stdout",
     "output_type": "stream",
     "text": [
      "[11 11 11 12 13 14]\n",
      "-----------\n",
      "[11 12 13 14]\n"
     ]
    }
   ],
   "source": []
  }
 ],
 "metadata": {
  "kernelspec": {
   "display_name": "Python 3 (ipykernel)",
   "language": "python",
   "name": "python3"
  },
  "language_info": {
   "codemirror_mode": {
    "name": "ipython",
    "version": 3
   },
   "file_extension": ".py",
   "mimetype": "text/x-python",
   "name": "python",
   "nbconvert_exporter": "python",
   "pygments_lexer": "ipython3",
   "version": "3.11.7"
  }
 },
 "nbformat": 4,
 "nbformat_minor": 5
}
